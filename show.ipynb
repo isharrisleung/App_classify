{
 "cells": [
  {
   "cell_type": "code",
   "execution_count": 1,
   "metadata": {},
   "outputs": [],
   "source": [
    "import pandas as pd\n",
    "\n",
    "data = pd.read_csv(\"./data/train.csv\")"
   ]
  },
  {
   "cell_type": "code",
   "execution_count": 2,
   "metadata": {},
   "outputs": [],
   "source": [
    "name_length = []\n",
    "dsc_length = []\n",
    "for i in range(len(data)):\n",
    "    name_length.append(len(data.loc[i][\"name\"].split()))\n",
    "    dsc_length.append(len(data.loc[i][\"description\"].split()))"
   ]
  },
  {
   "cell_type": "code",
   "execution_count": 3,
   "metadata": {},
   "outputs": [
    {
     "name": "stdout",
     "output_type": "stream",
     "text": [
      "avg 8.969278399618958\n",
      "min 2\n",
      "max 32\n",
      "95% 15\n",
      "avg 37.08787806620624\n",
      "min 1\n",
      "max 946\n",
      "95% 94\n"
     ]
    }
   ],
   "source": [
    "import math\n",
    "\n",
    "\n",
    "def check_length(li):\n",
    "    li.sort()\n",
    "    print(\"avg\", sum(li)/len(li))\n",
    "    print(\"min\", min(li))\n",
    "    print(\"max\", max(li))\n",
    "    print(\"95%\", li[int(len(li)*0.90)])\n",
    "\n",
    "check_length(name_length)\n",
    "check_length(dsc_length)"
   ]
  },
  {
   "cell_type": "code",
   "execution_count": 4,
   "metadata": {},
   "outputs": [
    {
     "name": "stdout",
     "output_type": "stream",
     "text": [
      "avg 8.969278399618958\n",
      "min 2\n",
      "max 32\n",
      "80% 15\n",
      "avg 37.08787806620624\n",
      "min 1\n",
      "max 946\n",
      "80% 94\n"
     ]
    }
   ],
   "source": [
    "import math\n",
    "\n",
    "\n",
    "def check_length(li):\n",
    "    li.sort()\n",
    "    print(\"avg\", sum(li)/len(li))\n",
    "    print(\"min\", min(li))\n",
    "    print(\"max\", max(li))\n",
    "    print(\"80%\", li[int(len(li)*0.90)])\n",
    "\n",
    "check_length(name_length)\n",
    "check_length(dsc_length)"
   ]
  },
  {
   "cell_type": "code",
   "execution_count": 5,
   "metadata": {},
   "outputs": [],
   "source": [
    "def createVec(documents, word_model):\n",
    "    print(\"start create vecs...\")\n",
    "    vecs = []\n",
    "    labels = []\n",
    "    for doc in documents:\n",
    "        vec = []\n",
    "        for word in doc.sentence:\n",
    "            if word in word_model:\n",
    "                vec.append(word_model[word])\n",
    "            # else:\n",
    "            #     vec.append([np.random.uniform(-0.01, 0.01) for i in range(embedding_dim)])\n",
    "        t = len(vec)\n",
    "        if t >= 0:\n",
    "            if t == 0:\n",
    "                vec.append([np.random.uniform(-0.01, 0.01) for i in range(embedding_dim)])\n",
    "            if t < max_len:\n",
    "                i = 0\n",
    "                while len(vec) < max_len:\n",
    "                    vec.append(vec[i])\n",
    "                    i += 1\n",
    "            else:\n",
    "                vec = vec[:max_len]\n",
    "            vecs.append(vec)\n",
    "            labels.append(doc.polarity)\n",
    "    print(\"create vecs successfully...\")\n",
    "\n",
    "    return vecs, labels"
   ]
  },
  {
   "cell_type": "code",
   "execution_count": 6,
   "metadata": {},
   "outputs": [],
   "source": [
    "import pandas as pd\n",
    "\n",
    "a = pd.read_csv(\"./data/new_train_data.csv\")"
   ]
  },
  {
   "cell_type": "code",
   "execution_count": 7,
   "metadata": {},
   "outputs": [
    {
     "data": {
      "text/plain": [
       "4199"
      ]
     },
     "execution_count": 7,
     "metadata": {},
     "output_type": "execute_result"
    }
   ],
   "source": [
    "len(a)"
   ]
  },
  {
   "cell_type": "code",
   "execution_count": 8,
   "metadata": {},
   "outputs": [],
   "source": [
    "import numpy as np\n",
    "tmp = pd.DataFrame(np.repeat(a[a['new_label']==18].values, 1, axis=0))\n",
    "tmp.columns = ['id', 'name', 'description', 'label', 'new_label']"
   ]
  },
  {
   "cell_type": "code",
   "execution_count": 9,
   "metadata": {},
   "outputs": [],
   "source": [
    "train = pd.concat([a, tmp]).reset_index(drop=True)"
   ]
  },
  {
   "cell_type": "code",
   "execution_count": 10,
   "metadata": {},
   "outputs": [
    {
     "data": {
      "text/html": [
       "<div>\n",
       "<style scoped>\n",
       "    .dataframe tbody tr th:only-of-type {\n",
       "        vertical-align: middle;\n",
       "    }\n",
       "\n",
       "    .dataframe tbody tr th {\n",
       "        vertical-align: top;\n",
       "    }\n",
       "\n",
       "    .dataframe thead th {\n",
       "        text-align: right;\n",
       "    }\n",
       "</style>\n",
       "<table border=\"1\" class=\"dataframe\">\n",
       "  <thead>\n",
       "    <tr style=\"text-align: right;\">\n",
       "      <th></th>\n",
       "      <th>id</th>\n",
       "      <th>name</th>\n",
       "      <th>description</th>\n",
       "      <th>label</th>\n",
       "      <th>new_label</th>\n",
       "    </tr>\n",
       "  </thead>\n",
       "  <tbody>\n",
       "    <tr>\n",
       "      <th>0</th>\n",
       "      <td>3152</td>\n",
       "      <td>85 104 116 98 115 115 102 88 102 105 99 117 10...</td>\n",
       "      <td>14717871 14782384 14925705 15703709 14781592 1...</td>\n",
       "      <td>14784131 14858934 14784131 14845064</td>\n",
       "      <td>18</td>\n",
       "    </tr>\n",
       "  </tbody>\n",
       "</table>\n",
       "</div>"
      ],
      "text/plain": [
       "     id                                               name  \\\n",
       "0  3152  85 104 116 98 115 115 102 88 102 105 99 117 10...   \n",
       "\n",
       "                                         description  \\\n",
       "0  14717871 14782384 14925705 15703709 14781592 1...   \n",
       "\n",
       "                                 label new_label  \n",
       "0  14784131 14858934 14784131 14845064        18  "
      ]
     },
     "execution_count": 10,
     "metadata": {},
     "output_type": "execute_result"
    }
   ],
   "source": [
    "tmp"
   ]
  },
  {
   "cell_type": "code",
   "execution_count": 11,
   "metadata": {},
   "outputs": [
    {
     "data": {
      "text/html": [
       "<div>\n",
       "<style scoped>\n",
       "    .dataframe tbody tr th:only-of-type {\n",
       "        vertical-align: middle;\n",
       "    }\n",
       "\n",
       "    .dataframe tbody tr th {\n",
       "        vertical-align: top;\n",
       "    }\n",
       "\n",
       "    .dataframe thead th {\n",
       "        text-align: right;\n",
       "    }\n",
       "</style>\n",
       "<table border=\"1\" class=\"dataframe\">\n",
       "  <thead>\n",
       "    <tr style=\"text-align: right;\">\n",
       "      <th></th>\n",
       "      <th>id</th>\n",
       "      <th>name</th>\n",
       "      <th>description</th>\n",
       "      <th>label</th>\n",
       "      <th>new_label</th>\n",
       "    </tr>\n",
       "  </thead>\n",
       "  <tbody>\n",
       "    <tr>\n",
       "      <th>0</th>\n",
       "      <td>0</td>\n",
       "      <td>14717598 14854817 15697796 15706258 47 1478313...</td>\n",
       "      <td>14782903 14925723 14782910 14851258 14853009 1...</td>\n",
       "      <td>14783134 15697333 14854817 14925479</td>\n",
       "      <td>0</td>\n",
       "    </tr>\n",
       "    <tr>\n",
       "      <th>1</th>\n",
       "      <td>1</td>\n",
       "      <td>99 126 108</td>\n",
       "      <td>100 117 106</td>\n",
       "      <td>14847385 14844587 14848641 14847398</td>\n",
       "      <td>1</td>\n",
       "    </tr>\n",
       "    <tr>\n",
       "      <th>2</th>\n",
       "      <td>2</td>\n",
       "      <td>14858120 14720698 88 14790566 14859144 1570624...</td>\n",
       "      <td>14854577 14859690 14847406 14718849 14850444 1...</td>\n",
       "      <td>14786237 15697082 14722731 14924977</td>\n",
       "      <td>2</td>\n",
       "    </tr>\n",
       "    <tr>\n",
       "      <th>3</th>\n",
       "      <td>3</td>\n",
       "      <td>14858412 14720387 14782100 15710881 88 110 104...</td>\n",
       "      <td>14858412 14720387 14782100 15710881 110 104 11...</td>\n",
       "      <td>14844093 15705739 14854331 15699885</td>\n",
       "      <td>3</td>\n",
       "    </tr>\n",
       "    <tr>\n",
       "      <th>4</th>\n",
       "      <td>4</td>\n",
       "      <td>14783417 14719931 70 105 99 117 104 110 99</td>\n",
       "      <td>14783417 14719931 14720179 14783914</td>\n",
       "      <td>15632285 15706536 14721977 14925219</td>\n",
       "      <td>4</td>\n",
       "    </tr>\n",
       "    <tr>\n",
       "      <th>...</th>\n",
       "      <td>...</td>\n",
       "      <td>...</td>\n",
       "      <td>...</td>\n",
       "      <td>...</td>\n",
       "      <td>...</td>\n",
       "    </tr>\n",
       "    <tr>\n",
       "      <th>4195</th>\n",
       "      <td>4195</td>\n",
       "      <td>14786237 15697082 14854565 14785418 88 112 98 ...</td>\n",
       "      <td>14786237 15697082 14854565 14785418</td>\n",
       "      <td>14847385 14844587 14848641 14847398</td>\n",
       "      <td>1</td>\n",
       "    </tr>\n",
       "    <tr>\n",
       "      <th>4196</th>\n",
       "      <td>4196</td>\n",
       "      <td>14847399 14792126 14844563 14728335 14724264 1...</td>\n",
       "      <td>14782100 14846647 14858120 14721711 15252363 1...</td>\n",
       "      <td>14924216 14781104 14717848 14791612</td>\n",
       "      <td>6</td>\n",
       "    </tr>\n",
       "    <tr>\n",
       "      <th>4197</th>\n",
       "      <td>4197</td>\n",
       "      <td>14785422 14853303 14859198 14859922</td>\n",
       "      <td>14717871 14925193 14782864 15644347 14859198 1...</td>\n",
       "      <td>15632285 15706536 14721977 14925219</td>\n",
       "      <td>4</td>\n",
       "    </tr>\n",
       "    <tr>\n",
       "      <th>4198</th>\n",
       "      <td>4198</td>\n",
       "      <td>15706282 15636660 14854817 14925479 82 116 98 ...</td>\n",
       "      <td>14728324 14925479 14924472 14717871</td>\n",
       "      <td>14844593 14924945</td>\n",
       "      <td>15</td>\n",
       "    </tr>\n",
       "    <tr>\n",
       "      <th>4199</th>\n",
       "      <td>3152</td>\n",
       "      <td>85 104 116 98 115 115 102 88 102 105 99 117 10...</td>\n",
       "      <td>14717871 14782384 14925705 15703709 14781592 1...</td>\n",
       "      <td>14784131 14858934 14784131 14845064</td>\n",
       "      <td>18</td>\n",
       "    </tr>\n",
       "  </tbody>\n",
       "</table>\n",
       "<p>4200 rows × 5 columns</p>\n",
       "</div>"
      ],
      "text/plain": [
       "        id                                               name  \\\n",
       "0        0  14717598 14854817 15697796 15706258 47 1478313...   \n",
       "1        1                                         99 126 108   \n",
       "2        2  14858120 14720698 88 14790566 14859144 1570624...   \n",
       "3        3  14858412 14720387 14782100 15710881 88 110 104...   \n",
       "4        4         14783417 14719931 70 105 99 117 104 110 99   \n",
       "...    ...                                                ...   \n",
       "4195  4195  14786237 15697082 14854565 14785418 88 112 98 ...   \n",
       "4196  4196  14847399 14792126 14844563 14728335 14724264 1...   \n",
       "4197  4197                14785422 14853303 14859198 14859922   \n",
       "4198  4198  15706282 15636660 14854817 14925479 82 116 98 ...   \n",
       "4199  3152  85 104 116 98 115 115 102 88 102 105 99 117 10...   \n",
       "\n",
       "                                            description  \\\n",
       "0     14782903 14925723 14782910 14851258 14853009 1...   \n",
       "1                                           100 117 106   \n",
       "2     14854577 14859690 14847406 14718849 14850444 1...   \n",
       "3     14858412 14720387 14782100 15710881 110 104 11...   \n",
       "4                   14783417 14719931 14720179 14783914   \n",
       "...                                                 ...   \n",
       "4195                14786237 15697082 14854565 14785418   \n",
       "4196  14782100 14846647 14858120 14721711 15252363 1...   \n",
       "4197  14717871 14925193 14782864 15644347 14859198 1...   \n",
       "4198                14728324 14925479 14924472 14717871   \n",
       "4199  14717871 14782384 14925705 15703709 14781592 1...   \n",
       "\n",
       "                                    label new_label  \n",
       "0     14783134 15697333 14854817 14925479         0  \n",
       "1     14847385 14844587 14848641 14847398         1  \n",
       "2     14786237 15697082 14722731 14924977         2  \n",
       "3     14844093 15705739 14854331 15699885         3  \n",
       "4     15632285 15706536 14721977 14925219         4  \n",
       "...                                   ...       ...  \n",
       "4195  14847385 14844587 14848641 14847398         1  \n",
       "4196  14924216 14781104 14717848 14791612         6  \n",
       "4197  15632285 15706536 14721977 14925219         4  \n",
       "4198                    14844593 14924945        15  \n",
       "4199  14784131 14858934 14784131 14845064        18  \n",
       "\n",
       "[4200 rows x 5 columns]"
      ]
     },
     "execution_count": 11,
     "metadata": {},
     "output_type": "execute_result"
    }
   ],
   "source": [
    "train"
   ]
  },
  {
   "cell_type": "code",
   "execution_count": 12,
   "metadata": {},
   "outputs": [],
   "source": [
    "train.to_csv(\"./data/good_data.csv\", index=False)"
   ]
  },
  {
   "cell_type": "code",
   "execution_count": null,
   "metadata": {},
   "outputs": [],
   "source": []
  }
 ],
 "metadata": {
  "kernelspec": {
   "display_name": "Python 3.9.12 ('base')",
   "language": "python",
   "name": "python3"
  },
  "language_info": {
   "codemirror_mode": {
    "name": "ipython",
    "version": 3
   },
   "file_extension": ".py",
   "mimetype": "text/x-python",
   "name": "python",
   "nbconvert_exporter": "python",
   "pygments_lexer": "ipython3",
   "version": "3.9.12"
  },
  "orig_nbformat": 4,
  "vscode": {
   "interpreter": {
    "hash": "2564e1fcdf75c3b5f6e3f6bbb639251a5c9cf0f98c916a2d724c13558ff7673d"
   }
  }
 },
 "nbformat": 4,
 "nbformat_minor": 2
}
