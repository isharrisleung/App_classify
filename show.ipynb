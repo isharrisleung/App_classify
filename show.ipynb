{
 "cells": [
  {
   "cell_type": "code",
   "execution_count": 1,
   "metadata": {},
   "outputs": [],
   "source": [
    "import pandas as pd\n",
    "\n",
    "data = pd.read_csv(\"./data/new_train_data.csv\")"
   ]
  },
  {
   "cell_type": "code",
   "execution_count": 4,
   "metadata": {},
   "outputs": [],
   "source": [
    "name_length = []\n",
    "dsc_length = []\n",
    "for i in range(len(data)):\n",
    "    name_length.append(len(data.loc[i][\"name\"].split()))\n",
    "    dsc_length.append(len(data.loc[i][\"description\"].split()))"
   ]
  },
  {
   "cell_type": "code",
   "execution_count": 7,
   "metadata": {},
   "outputs": [
    {
     "name": "stdout",
     "output_type": "stream",
     "text": [
      "avg 8.969278399618958\n",
      "min 2\n",
      "max 32\n",
      "80% 12\n",
      "avg 37.08787806620624\n",
      "min 1\n",
      "max 946\n",
      "80% 36\n"
     ]
    }
   ],
   "source": [
    "import math\n",
    "\n",
    "\n",
    "def check_length(li):\n",
    "    li.sort()\n",
    "    print(\"avg\", sum(li)/len(li))\n",
    "    print(\"min\", min(li))\n",
    "    print(\"max\", max(li))\n",
    "    print(\"80%\", li[int(len(li)*0.9)])\n",
    "\n",
    "check_length(name_length)\n",
    "check_length(dsc_length)"
   ]
  },
  {
   "cell_type": "code",
   "execution_count": 10,
   "metadata": {},
   "outputs": [
    {
     "name": "stdout",
     "output_type": "stream",
     "text": [
      "avg 8.969278399618958\n",
      "min 2\n",
      "max 32\n",
      "80% 15\n",
      "avg 37.08787806620624\n",
      "min 1\n",
      "max 946\n",
      "80% 94\n"
     ]
    }
   ],
   "source": [
    "import math\n",
    "\n",
    "\n",
    "def check_length(li):\n",
    "    li.sort()\n",
    "    print(\"avg\", sum(li)/len(li))\n",
    "    print(\"min\", min(li))\n",
    "    print(\"max\", max(li))\n",
    "    print(\"80%\", li[int(len(li)*0.90)])\n",
    "\n",
    "check_length(name_length)\n",
    "check_length(dsc_length)"
   ]
  },
  {
   "cell_type": "code",
   "execution_count": null,
   "metadata": {},
   "outputs": [],
   "source": [
    "def createVec(documents, word_model):\n",
    "    print(\"start create vecs...\")\n",
    "    vecs = []\n",
    "    labels = []\n",
    "    for doc in documents:\n",
    "        vec = []\n",
    "        for word in doc.sentence:\n",
    "            if word in word_model:\n",
    "                vec.append(word_model[word])\n",
    "            # else:\n",
    "            #     vec.append([np.random.uniform(-0.01, 0.01) for i in range(embedding_dim)])\n",
    "        t = len(vec)\n",
    "        if t >= 0:\n",
    "            if t == 0:\n",
    "                vec.append([np.random.uniform(-0.01, 0.01) for i in range(embedding_dim)])\n",
    "            if t < max_len:\n",
    "                i = 0\n",
    "                while len(vec) < max_len:\n",
    "                    vec.append(vec[i])\n",
    "                    i += 1\n",
    "            else:\n",
    "                vec = vec[:max_len]\n",
    "            vecs.append(vec)\n",
    "            labels.append(doc.polarity)\n",
    "    print(\"create vecs successfully...\")\n",
    "\n",
    "    return vecs, labels"
   ]
  }
 ],
 "metadata": {
  "kernelspec": {
   "display_name": "Python 3.9.12 ('base')",
   "language": "python",
   "name": "python3"
  },
  "language_info": {
   "codemirror_mode": {
    "name": "ipython",
    "version": 3
   },
   "file_extension": ".py",
   "mimetype": "text/x-python",
   "name": "python",
   "nbconvert_exporter": "python",
   "pygments_lexer": "ipython3",
   "version": "3.9.12"
  },
  "orig_nbformat": 4,
  "vscode": {
   "interpreter": {
    "hash": "2564e1fcdf75c3b5f6e3f6bbb639251a5c9cf0f98c916a2d724c13558ff7673d"
   }
  }
 },
 "nbformat": 4,
 "nbformat_minor": 2
}
