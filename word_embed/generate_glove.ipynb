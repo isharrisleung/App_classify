{
 "cells": [
  {
   "cell_type": "code",
   "execution_count": 1,
   "metadata": {},
   "outputs": [
    {
     "name": "stdout",
     "output_type": "stream",
     "text": [
      "1904 \n",
      " 100\n"
     ]
    },
    {
     "name": "stderr",
     "output_type": "stream",
     "text": [
      "/var/folders/2z/h4frc_xd7m379mny_nw2qhpw0000gn/T/ipykernel_83699/2430803340.py:5: DeprecationWarning: Call to deprecated `glove2word2vec` (KeyedVectors.load_word2vec_format(.., binary=False, no_header=True) loads GLoVE text vectors.).\n",
      "  (count, dimensions) = glove2word2vec(glove_input_file, word2vec_output_file)\n"
     ]
    }
   ],
   "source": [
    "from gensim.scripts.glove2word2vec import glove2word2vec\n",
    "\n",
    "glove_input_file = '../data/glove_vectors.txt'\n",
    "word2vec_output_file = '../data/glove_word2vec_100_4.bin'\n",
    "(count, dimensions) = glove2word2vec(glove_input_file, word2vec_output_file)\n",
    "print(count, '\\n', dimensions)"
   ]
  },
  {
   "cell_type": "code",
   "execution_count": 2,
   "metadata": {},
   "outputs": [],
   "source": [
    "from gensim.models import KeyedVectors\n",
    "\n",
    "# 加载模型\n",
    "glove_model = KeyedVectors.load_word2vec_format(word2vec_output_file, binary=False)"
   ]
  },
  {
   "cell_type": "code",
   "execution_count": 3,
   "metadata": {},
   "outputs": [
    {
     "data": {
      "text/plain": [
       "array([[-0.249796,  0.361334, -0.205481, ...,  0.098821,  0.568807,\n",
       "        -0.364531],\n",
       "       [-0.462295,  0.54803 ,  0.348522, ...,  0.958269,  0.656577,\n",
       "        -0.115973],\n",
       "       [-0.291604,  0.283794,  0.297917, ...,  0.568818, -0.165293,\n",
       "         0.104833],\n",
       "       ...,\n",
       "       [ 0.314694, -0.132883, -0.488792, ..., -0.29971 , -0.216132,\n",
       "         0.353448],\n",
       "       [ 0.110625,  0.125499,  0.1137  , ...,  0.386816, -0.007964,\n",
       "         0.150655],\n",
       "       [ 0.090548, -0.037355, -0.13178 , ..., -0.143788, -0.092427,\n",
       "         0.044541]], dtype=float32)"
      ]
     },
     "execution_count": 3,
     "metadata": {},
     "output_type": "execute_result"
    }
   ],
   "source": [
    "glove_model.vectors"
   ]
  },
  {
   "cell_type": "code",
   "execution_count": null,
   "metadata": {},
   "outputs": [],
   "source": []
  }
 ],
 "metadata": {
  "kernelspec": {
   "display_name": "Python 3.9.12 ('base')",
   "language": "python",
   "name": "python3"
  },
  "language_info": {
   "codemirror_mode": {
    "name": "ipython",
    "version": 3
   },
   "file_extension": ".py",
   "mimetype": "text/x-python",
   "name": "python",
   "nbconvert_exporter": "python",
   "pygments_lexer": "ipython3",
   "version": "3.9.12"
  },
  "orig_nbformat": 4,
  "vscode": {
   "interpreter": {
    "hash": "2564e1fcdf75c3b5f6e3f6bbb639251a5c9cf0f98c916a2d724c13558ff7673d"
   }
  }
 },
 "nbformat": 4,
 "nbformat_minor": 2
}
